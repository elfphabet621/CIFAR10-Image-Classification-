{
  "nbformat": 4,
  "nbformat_minor": 0,
  "metadata": {
    "colab": {
      "provenance": []
    },
    "kernelspec": {
      "name": "python3",
      "display_name": "Python 3"
    },
    "language_info": {
      "name": "python"
    }
  },
  "cells": [
    {
      "cell_type": "code",
      "execution_count": null,
      "metadata": {
        "id": "0F09jEajm-Lx"
      },
      "outputs": [],
      "source": []
    },
    {
      "cell_type": "markdown",
      "source": [
        "# CIFAR10 - subset\n",
        "\n",
        "Base on the previous result of trying to classify CIFAR10 dataset, now I take a closer look at a subset of CIFAR10. In other words, I train on 4 classes that are quite similar to each other (cat, deer, dog, horse)."
      ],
      "metadata": {
        "id": "wHR2pGFR30uB"
      }
    },
    {
      "cell_type": "markdown",
      "source": [
        "## Prepare Dataset"
      ],
      "metadata": {
        "id": "RALLoabNhA3W"
      }
    },
    {
      "cell_type": "code",
      "source": [
        "import torch\n",
        "from torchvision import datasets\n",
        "from torchvision.transforms import ToTensor\n",
        "\n",
        "import pathlib\n",
        "data_dir = pathlib.Path(\"data\")\n",
        "\n",
        "train_data = datasets.CIFAR10(root=data_dir, train=True, download=True, transform=ToTensor())\n",
        "test_data = datasets.CIFAR10(root=data_dir, train=False, download=True, transform=ToTensor())"
      ],
      "metadata": {
        "colab": {
          "base_uri": "https://localhost:8080/",
          "height": 101,
          "referenced_widgets": [
            "63a640bddc0941569bcd7f5b9580c638",
            "cdaedb18dd8f4d33aa2e012b69d25d81",
            "0af7ee57229d427ea733bdd5d6c205e2",
            "fe6b75efa0424e8f9bca620ca64556ec",
            "d913a6ca1bdd48dc92259657fb7c3bd4",
            "da00843ae1db4685a3cf5ff465df567d",
            "873a9e81097c4342957adb29f4c83d1b",
            "a7f9df9753c6427bbaff8e6307cc03fd",
            "5fa7f4273bd348eca4c0be8889b0cbbd",
            "02c815bdde7f426386ca8a8365ac5771",
            "ba4b9aaf236d45599426c71fea7a34a4"
          ]
        },
        "id": "AO7APLtftzru",
        "outputId": "e07e9cce-e63a-4569-fa00-e7f0d6b6a51f"
      },
      "execution_count": null,
      "outputs": [
        {
          "output_type": "stream",
          "name": "stdout",
          "text": [
            "Downloading https://www.cs.toronto.edu/~kriz/cifar-10-python.tar.gz to data/cifar-10-python.tar.gz\n"
          ]
        },
        {
          "output_type": "display_data",
          "data": {
            "text/plain": [
              "  0%|          | 0/170498071 [00:00<?, ?it/s]"
            ],
            "application/vnd.jupyter.widget-view+json": {
              "version_major": 2,
              "version_minor": 0,
              "model_id": "63a640bddc0941569bcd7f5b9580c638"
            }
          },
          "metadata": {}
        },
        {
          "output_type": "stream",
          "name": "stdout",
          "text": [
            "Extracting data/cifar-10-python.tar.gz to data\n",
            "Files already downloaded and verified\n"
          ]
        }
      ]
    },
    {
      "cell_type": "code",
      "source": [
        "import numpy as np\n",
        "import random\n",
        "\n",
        "#str targets --> idx targets\n",
        "target_classes = ['cat', 'deer', 'dog', 'horse']\n",
        "\n",
        "def get_selective_subset(data, target_classes, num_to_get):\n",
        "  class_indexes = data.class_to_idx\n",
        "  targets = [class_indexes[target] for target in target_classes] \n",
        "\n",
        "  indices = []\n",
        "  for idx, t in enumerate(data.targets):\n",
        "    if t in targets:\n",
        "      indices.append(idx)\n",
        "  \n",
        "  random.shuffle(indices)\n",
        "  indices = indices[:int(num_to_get * len(indices))]\n",
        "  labels = [data.targets[i] for i in indices]\n",
        "  \n",
        "  return custom_subset(data, indices, labels, target_classes)\n",
        "\n",
        "train_dataset = get_selective_subset(train_data, target_classes, 0.1)\n",
        "test_dataset = get_selective_subset(test_data, target_classes, 0.1)\n",
        "\n",
        "map_target = {subset_y: new_y for new_y, subset_y in enumerate(np.unique(train_dataset.targets))}\n",
        "train_dataset.targets = list(map(lambda x: map_target[x], train_dataset.targets))\n",
        "test_dataset.targets = list(map(lambda x: map_target[x], test_dataset.targets))"
      ],
      "metadata": {
        "id": "q-Q-opmu5U-U"
      },
      "execution_count": null,
      "outputs": []
    },
    {
      "cell_type": "code",
      "source": [
        "import random\n",
        "import matplotlib.pyplot as plt\n",
        "\n",
        "idx = random.randint(0, len(train_dataset))\n",
        "class_names = train_dataset.classes\n",
        "\n",
        "print(class_names[train_dataset[idx][1]])\n",
        "img=train_dataset[idx][0].permute(1,2,0)\n",
        "plt.imshow(img)\n",
        "plt.axis(False);"
      ],
      "metadata": {
        "id": "IFgPnk1_sW9r",
        "colab": {
          "base_uri": "https://localhost:8080/",
          "height": 265
        },
        "outputId": "881a84e1-b147-4fb8-b4b9-55732fad52b6"
      },
      "execution_count": null,
      "outputs": [
        {
          "output_type": "stream",
          "name": "stdout",
          "text": [
            "horse\n"
          ]
        },
        {
          "output_type": "display_data",
          "data": {
            "text/plain": [
              "<Figure size 432x288 with 1 Axes>"
            ],
            "image/png": "[encoded data removed]"
          },
          "metadata": {
            "needs_background": "light"
          }
        }
      ]
    },
    {
      "cell_type": "markdown",
      "source": [
        "## DataLoader"
      ],
      "metadata": {
        "id": "gMDEw0VTg_Oj"
      }
    },
    {
      "cell_type": "code",
      "source": [
        "from torch.utils.data import DataLoader\n",
        "import os\n",
        "\n",
        "BATCH = 128\n",
        "num_cpu = os.cpu_count()\n",
        "\n",
        "train_dataloader = DataLoader(train_dataset, batch_size=BATCH, shuffle=True, num_workers=num_cpu)\n",
        "test_dataloader = DataLoader(test_dataset, batch_size=BATCH, shuffle=True, num_workers=num_cpu)"
      ],
      "metadata": {
        "id": "0VjkPHwchFNC"
      },
      "execution_count": null,
      "outputs": []
    },
    {
      "cell_type": "markdown",
      "source": [
        "## Model"
      ],
      "metadata": {
        "id": "mBZQCnL4m1mB"
      }
    },
    {
      "cell_type": "code",
      "source": [
        "from torch import nn\n",
        "\n",
        "class CIFAR10Classifier(nn.Module):\n",
        "  def __init__(self, input_shape: int,\n",
        "               output_shape: int,\n",
        "               hidden_units: int):\n",
        "    super().__init__()\n",
        "    self.cnn_block_1 = nn.Sequential(\n",
        "        nn.Conv2d(in_channels=input_shape,\n",
        "                  out_channels=hidden_units,\n",
        "                  kernel_size=3,\n",
        "                  stride=1, padding=1),\n",
        "        nn.ReLU(),\n",
        "        nn.MaxPool2d(kernel_size=2)\n",
        "    )\n",
        "    self.cnn_block_2 = nn.Sequential(\n",
        "        nn.Conv2d(in_channels=hidden_units,\n",
        "                  out_channels=hidden_units*2,\n",
        "                  kernel_size=3,\n",
        "                  stride=1, padding=1),\n",
        "        nn.ReLU(),\n",
        "        nn.MaxPool2d(kernel_size=2)\n",
        "    )\n",
        "    self.classifier = nn.Sequential(\n",
        "        nn.Flatten(),\n",
        "        nn.Linear(in_features= hidden_units*8*8*2, out_features=hidden_units*8*2),\n",
        "        nn.ReLU(),\n",
        "        nn.Linear(in_features= hidden_units*8*2, out_features=output_shape))\n",
        "    \n",
        "  def forward(self, x):\n",
        "    x = self.cnn_block_1(x)\n",
        "    # print(x.shape)\n",
        "    x = self.cnn_block_2(x)\n",
        "    # print(x.shape)\n",
        "    x = self.classifier(x)\n",
        "    return x"
      ],
      "metadata": {
        "id": "vlbe87olm3Jp"
      },
      "execution_count": null,
      "outputs": []
    },
    {
      "cell_type": "markdown",
      "source": [
        "## Train step"
      ],
      "metadata": {
        "id": "Bm0uKExTqslY"
      }
    },
    {
      "cell_type": "code",
      "source": [
        "def train_step(model: torch.nn.Module,\n",
        "               dataloader: torch.utils.data.DataLoader,\n",
        "               loss_fn: torch.nn.Module,\n",
        "               optimizer: torch.optim.Optimizer,\n",
        "               device):\n",
        "  model.train()\n",
        "  train_loss, train_acc = 0, 0\n",
        "\n",
        "  for X, y in dataloader:\n",
        "    X, y = X.to(device), y.to(device)\n",
        "    y_logits = model(X)\n",
        "\n",
        "    loss = loss_fn(y_logits, y)\n",
        "    train_loss += loss.item()\n",
        "    y_pred = torch.softmax(y_logits, dim=1).argmax(dim=1)\n",
        "    train_acc += (y_pred == y).sum().item() / len(y)\n",
        "\n",
        "    optimizer.zero_grad()\n",
        "    loss.backward()\n",
        "    optimizer.step()\n",
        "\n",
        "  return train_loss/len(dataloader), train_acc/len(dataloader)"
      ],
      "metadata": {
        "id": "mpoTzB3jqpaT"
      },
      "execution_count": null,
      "outputs": []
    },
    {
      "cell_type": "markdown",
      "source": [
        "## Test step"
      ],
      "metadata": {
        "id": "cIWKq9ostHUo"
      }
    },
    {
      "cell_type": "code",
      "source": [
        "def test_step(model: nn.Module,\n",
        "              dataloader: DataLoader,\n",
        "              loss_fn: torch.nn.Module,\n",
        "              device):\n",
        "  model.eval()\n",
        "  with torch.inference_mode():\n",
        "    test_loss, test_acc = 0, 0\n",
        "    for X, y in dataloader:\n",
        "      X, y = X.to(device), y.to(device)\n",
        "\n",
        "      y_logits = model(X)\n",
        "      test_loss += loss_fn(y_logits).item()\n",
        "\n",
        "      y_pred = y_logits.softmax(dim=-1).argmax(dim=-1)\n",
        "      test_acc += (y_pred == y).sum().item() / len(y)\n",
        "\n",
        "    return test_loss / len(dataloader), test_acc / len(dataloader)"
      ],
      "metadata": {
        "id": "5DQb9QMBtJYZ"
      },
      "execution_count": null,
      "outputs": []
    },
    {
      "cell_type": "markdown",
      "source": [
        "## Train func"
      ],
      "metadata": {
        "id": "5Bvvhvn7u2Vj"
      }
    },
    {
      "cell_type": "code",
      "source": [
        "from tqdm.auto import tqdm\n",
        "\n",
        "def train_func(model: nn.Module,\n",
        "               train_dataloader: DataLoader,\n",
        "               test_dataloader: DataLoader,\n",
        "               loss_fn: nn.Module,\n",
        "               optimizer: torch.optim.Optimizer,\n",
        "               epochs : int, device):\n",
        "  for epoch in tqdm(range(epochs)):\n",
        "    train_loss, train_acc = train_step(model, train_dataloader, \n",
        "                                      loss_fn, optimizer, device)\n",
        "    test_loss, test_acc = train_step(model, train_dataloader, \n",
        "                                      loss_fn, optimizer, device)\n",
        "    print(f'Epoch: {epoch}  | Train loss: {train_loss : .4f} | Train Acc: {train_acc:.2f} | Test loss {test_loss:.4f} | Test Acc {test_acc:.2f}')"
      ],
      "metadata": {
        "id": "oZTUbR_Mu35q"
      },
      "execution_count": null,
      "outputs": []
    },
    {
      "cell_type": "markdown",
      "source": [
        "## Train"
      ],
      "metadata": {
        "id": "rE6CWEHlxpvC"
      }
    },
    {
      "cell_type": "code",
      "source": [
        "import numpy as np\n",
        "device = \"cuda\" if torch.cuda.is_available() else \"cpu\"\n",
        "torch.manual_seed(42)\n",
        "torch.cuda.manual_seed(42)\n",
        "EPOCHS = 25\n",
        "\n",
        "model = CIFAR10Classifier(input_shape=3, output_shape=len(target_classes), hidden_units=10).to(device)\n",
        "\n",
        "loss_fn = nn.CrossEntropyLoss()\n",
        "optimizer = torch.optim.Adam(model.parameters(), lr=1e-2)\n",
        "\n",
        "from timeit import default_timer as timer\n",
        "start_time = timer()\n",
        "train_func(model, train_dataloader, test_dataloader, loss_fn, optimizer, EPOCHS, device)\n",
        "end_time = timer()\n",
        "\n",
        "print(f\"Total training time: {end_time-start_time:.4f} seconds\")"
      ],
      "metadata": {
        "colab": {
          "base_uri": "https://localhost:8080/",
          "height": 517,
          "referenced_widgets": [
            "00db93b433a7449499fe2c90fd784bd3",
            "f5b7d59e9f31461bb551095aec6c4875",
            "958e7d5496ea4815bc7aae865d6c0091",
            "a0a2deeef65f4cd59da47022ff13cf76",
            "2ad05db911a047e7a49b44cf5ddd2ce0",
            "b599ceda3a8d4445b402efd89c2d3ebd",
            "4851a6a1c85c47f1a03ddf6a76943718",
            "164dfc4d90494fa98d33527d738ad445",
            "5a1d01d7401540559ed403d0bb364301",
            "76b453273daf420e872c0a0b6ba01398",
            "05f18e55c1654effba94194ab43eaa68"
          ]
        },
        "id": "FwpRcDN0wIUc",
        "outputId": "46305654-2186-47b6-e8e5-1ab392e4e19c"
      },
      "execution_count": null,
      "outputs": [
        {
          "output_type": "display_data",
          "data": {
            "text/plain": [
              "  0%|          | 0/26 [00:00<?, ?it/s]"
            ],
            "application/vnd.jupyter.widget-view+json": {
              "version_major": 2,
              "version_minor": 0,
              "model_id": "00db93b433a7449499fe2c90fd784bd3"
            }
          },
          "metadata": {}
        },
        {
          "output_type": "stream",
          "name": "stdout",
          "text": [
            "Epoch: 0  | Train loss:  1.4056 | Train Acc: 0.29 | Test loss 1.3868 | Test Acc 0.25\n",
            "Epoch: 1  | Train loss:  1.3884 | Train Acc: 0.29 | Test loss 1.3606 | Test Acc 0.34\n",
            "Epoch: 2  | Train loss:  1.3105 | Train Acc: 0.39 | Test loss 1.2709 | Test Acc 0.42\n",
            "Epoch: 3  | Train loss:  1.2592 | Train Acc: 0.42 | Test loss 1.1920 | Test Acc 0.46\n",
            "Epoch: 4  | Train loss:  1.1611 | Train Acc: 0.48 | Test loss 1.1225 | Test Acc 0.50\n",
            "Epoch: 5  | Train loss:  1.0827 | Train Acc: 0.52 | Test loss 1.0782 | Test Acc 0.52\n",
            "Epoch: 6  | Train loss:  1.0192 | Train Acc: 0.56 | Test loss 0.9696 | Test Acc 0.58\n",
            "Epoch: 7  | Train loss:  0.9377 | Train Acc: 0.59 | Test loss 0.8966 | Test Acc 0.61\n",
            "Epoch: 8  | Train loss:  0.8841 | Train Acc: 0.62 | Test loss 0.8337 | Test Acc 0.65\n",
            "Epoch: 9  | Train loss:  0.8266 | Train Acc: 0.66 | Test loss 0.7833 | Test Acc 0.68\n",
            "Epoch: 10  | Train loss:  0.7221 | Train Acc: 0.72 | Test loss 0.6873 | Test Acc 0.73\n",
            "Epoch: 11  | Train loss:  0.6322 | Train Acc: 0.75 | Test loss 0.5714 | Test Acc 0.79\n",
            "Epoch: 12  | Train loss:  0.5146 | Train Acc: 0.81 | Test loss 0.4958 | Test Acc 0.82\n",
            "Epoch: 13  | Train loss:  0.4523 | Train Acc: 0.83 | Test loss 0.3844 | Test Acc 0.86\n",
            "Epoch: 14  | Train loss:  0.3448 | Train Acc: 0.88 | Test loss 0.3111 | Test Acc 0.90\n",
            "Epoch: 15  | Train loss:  0.3009 | Train Acc: 0.89 | Test loss 0.2514 | Test Acc 0.91\n",
            "Epoch: 16  | Train loss:  0.2409 | Train Acc: 0.92 | Test loss 0.2466 | Test Acc 0.92\n",
            "Epoch: 17  | Train loss:  0.2572 | Train Acc: 0.91 | Test loss 0.2518 | Test Acc 0.92\n",
            "Epoch: 18  | Train loss:  0.3254 | Train Acc: 0.89 | Test loss 0.2417 | Test Acc 0.93\n",
            "Epoch: 19  | Train loss:  0.1938 | Train Acc: 0.94 | Test loss 0.1295 | Test Acc 0.96\n",
            "Epoch: 20  | Train loss:  0.1096 | Train Acc: 0.97 | Test loss 0.0831 | Test Acc 0.98\n",
            "Epoch: 21  | Train loss:  0.0995 | Train Acc: 0.97 | Test loss 0.0986 | Test Acc 0.97\n",
            "Epoch: 22  | Train loss:  0.0847 | Train Acc: 0.98 | Test loss 0.0629 | Test Acc 0.98\n",
            "Epoch: 23  | Train loss:  0.0492 | Train Acc: 0.99 | Test loss 0.0507 | Test Acc 0.99\n",
            "Epoch: 24  | Train loss:  0.0354 | Train Acc: 0.99 | Test loss 0.0317 | Test Acc 1.00\n",
            "Epoch: 25  | Train loss:  0.0299 | Train Acc: 1.00 | Test loss 0.0210 | Test Acc 1.00\n",
            "Total training time: 64.1720 seconds\n"
          ]
        }
      ]
    },
    {
      "cell_type": "markdown",
      "source": [
        "## Predict"
      ],
      "metadata": {
        "id": "pBbWJGmsWcD5"
      }
    },
    {
      "cell_type": "code",
      "source": [
        "import random\n",
        "idx = random.randint(0, len(test_dataset))\n",
        "img, label = test_dataset[idx]\n",
        "\n",
        "model.to(device)\n",
        "model.eval()\n",
        "with torch.inference_mode():\n",
        "  y_logit = model(img.unsqueeze(0))\n",
        "  y_pred = y_logit.softmax(dim=-1).argmax(dim=-1)\n",
        "\n",
        "print(\"Predict:\",target_classes[y_pred.item()], \"True:\", target_classes[label])\n",
        "plt.imshow(img.permute(1,2,0));"
      ],
      "metadata": {
        "colab": {
          "base_uri": "https://localhost:8080/",
          "height": 283
        },
        "id": "LNt1wyjMCQn3",
        "outputId": "057bdd20-c8f5-44f2-a80c-f4b57db6b184"
      },
      "execution_count": null,
      "outputs": [
        {
          "output_type": "stream",
          "name": "stdout",
          "text": [
            "Predict: dog True: dog\n"
          ]
        },
        {
          "output_type": "display_data",
          "data": {
            "text/plain": [
              "<Figure size 432x288 with 1 Axes>"
            ],
            "image/png": "[encoded data removed]"
          },
          "metadata": {
            "needs_background": "light"
          }
        }
      ]
    }
  ]
}